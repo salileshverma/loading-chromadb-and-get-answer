{
 "cells": [
  {
   "cell_type": "code",
   "execution_count": 13,
   "id": "89207bd8-f41a-4b25-b1dd-1a2e40bab9bc",
   "metadata": {},
   "outputs": [],
   "source": [
    "import os\n",
    "from langchain_chroma import Chroma\n",
    "from langchain.embeddings import HuggingFaceEmbeddings\n",
    "from langchain_groq import ChatGroq\n",
    "from langchain.chains import RetrievalQA\n"
   ]
  },
  {
   "cell_type": "code",
   "execution_count": 14,
   "id": "8fe77867-cedf-4ed8-96e5-3e0a6d97ae7f",
   "metadata": {},
   "outputs": [],
   "source": [
    "os.environ[\"GROQ_API_KEY\"] = \"#\""
   ]
  },
  {
   "cell_type": "code",
   "execution_count": 15,
   "id": "e7246511-2442-421d-a3c3-c13082952e74",
   "metadata": {},
   "outputs": [],
   "source": [
    "from langchain_huggingface import HuggingFaceEmbeddings\n",
    "embeddings = HuggingFaceEmbeddings()"
   ]
  },
  {
   "cell_type": "code",
   "execution_count": 16,
   "id": "a168918f-9cf7-40d1-8421-6d2b5f089cf0",
   "metadata": {},
   "outputs": [],
   "source": [
    "persist_directory=\"doc_db\""
   ]
  },
  {
   "cell_type": "code",
   "execution_count": 17,
   "id": "155c1394-6615-4852-ad37-f32e651cb625",
   "metadata": {},
   "outputs": [],
   "source": [
    "#loading chroma db\n",
    "vectordb=Chroma(\n",
    "    persist_directory=persist_directory,\n",
    "    embedding_function=embeddings\n",
    ")"
   ]
  },
  {
   "cell_type": "code",
   "execution_count": 18,
   "id": "5bca9dd7-0484-4798-b4d2-d2afda348c5d",
   "metadata": {},
   "outputs": [],
   "source": [
    "#retriever\n",
    "retriever=vectordb.as_retriever()"
   ]
  },
  {
   "cell_type": "code",
   "execution_count": 19,
   "id": "e72109e7-adbe-4179-b469-b572566bacaa",
   "metadata": {},
   "outputs": [],
   "source": [
    "#llm from groq\n",
    "llm=ChatGroq(\n",
    "    model=\"llama-3.1-70b-versatile\",\n",
    "    temperature=0\n",
    "    \n",
    ")"
   ]
  },
  {
   "cell_type": "code",
   "execution_count": 20,
   "id": "76603ae8-5975-44d4-9afd-0b55d5d281cf",
   "metadata": {},
   "outputs": [],
   "source": [
    "#creating a qa chain\n",
    "qa_chain=RetrievalQA.from_chain_type(\n",
    "    llm=llm,\n",
    "    chain_type=\"stuff\",\n",
    "    retriever=retriever,\n",
    "    return_source_documents=True\n",
    "    \n",
    ")"
   ]
  },
  {
   "cell_type": "code",
   "execution_count": 21,
   "id": "90988a3c-09b4-41b0-8994-ae03d2c810c6",
   "metadata": {},
   "outputs": [
    {
     "name": "stdout",
     "output_type": "stream",
     "text": [
      "The document appears to be a research paper on the Transformer model, a type of neural network architecture used for sequence transduction tasks such as machine translation. The paper presents the Transformer model, which is based entirely on attention mechanisms, and compares its performance to other models.\n",
      "\n",
      "The document includes:\n",
      "\n",
      "1. An introduction to the Transformer model and its architecture.\n",
      "2. A description of the attention mechanism used in the model.\n",
      "3. Experimental results comparing the performance of the Transformer model to other models on machine translation tasks.\n",
      "4. A discussion of the results and the implications for future research.\n",
      "\n",
      "The document also includes references to other research papers and a table comparing the performance of different variations of the Transformer model.\n",
      "******************************\n",
      "Source Document:  attention is all you need.pdf\n"
     ]
    }
   ],
   "source": [
    "##the document qa model is ready\n",
    "\n",
    "query=\"what is given in the document? give a brief summary.\"\n",
    "response=qa_chain.invoke({\"query\":query})\n",
    "print(response[\"result\"])\n",
    "print(\"*\"*30)\n",
    "print(\"Source Document: \",response[\"source_documents\"][0].metadata[\"source\"])\n",
    "\n",
    "#### you can change the query to get answer of a query ####"
   ]
  },
  {
   "cell_type": "code",
   "execution_count": null,
   "id": "258fc529-2eba-4ecc-bbf4-f757c12d5e90",
   "metadata": {},
   "outputs": [],
   "source": []
  }
 ],
 "metadata": {
  "kernelspec": {
   "display_name": "Python 3 (ipykernel)",
   "language": "python",
   "name": "python3"
  },
  "language_info": {
   "codemirror_mode": {
    "name": "ipython",
    "version": 3
   },
   "file_extension": ".py",
   "mimetype": "text/x-python",
   "name": "python",
   "nbconvert_exporter": "python",
   "pygments_lexer": "ipython3",
   "version": "3.11.7"
  }
 },
 "nbformat": 4,
 "nbformat_minor": 5
}
